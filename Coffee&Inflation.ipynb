{
 "cells": [
  {
   "cell_type": "markdown",
   "metadata": {},
   "source": [
    "# Analyzing the Correlation Between Coffee Pricing and US Inflation"
   ]
  },
  {
   "cell_type": "markdown",
   "metadata": {},
   "source": [
    "In this Jupyter notebook, we delve into a fascinating exploration of the relationship between coffee pricing and US inflation. Coffee, an integral part of daily life for millions worldwide, has a substantial economic impact. On the other hand, inflation, a key economic indicator, influences the purchasing power and general economic well-being of a nation.\n",
    "\n",
    "By leveraging data visualization, statistical analysis, and time series modeling, we aim to uncover potential correlations between coffee prices and inflation rates in the United States. This investigation could provide valuable insights into the underlying factors affecting coffee prices and their potential implications for the broader economy.\n",
    "\n",
    "Join us on this data-driven journey to gain a deeper understanding of the intricate interplay between coffee pricing and inflation, and how these variables may impact each other in the dynamic landscape of economic fluctuations.\n",
    "\n",
    "**I'd like to point out that I thought this project was gonna involve actually using a data set... Im not deleting all this just because the final project doesnt actually use any real data, my title shall remain as it is**"
   ]
  },
  {
   "cell_type": "markdown",
   "metadata": {},
   "source": [
    "Langauges used here: \n",
    "Python\n",
    "\n",
    "Data analysis langauges in general because the instructions were unclear: \n",
    "R, SQL, Julia, and Scala"
   ]
  },
  {
   "cell_type": "markdown",
   "metadata": {},
   "source": [
    "Libraries: \n",
    "NumPy, Pandas, Matplotlib, Seaborn, Scikit-learn, TensorFlow, Keras, and PyTorch"
   ]
  },
  {
   "cell_type": "markdown",
   "metadata": {},
   "source": [
    "Data Science Tools:\n",
    "\n",
    "| Tool            | Description                                         |\n",
    "|-----------------|-----------------------------------------------------|\n",
    "| Jupyter Notebook| Interactive computing and data analysis environment|\n",
    "| RStudio         | Integrated development environment for R           |\n",
    "| Apache Hadoop   | Distributed data storage and processing framework  |\n",
    "| Apache Spark    | Fast and distributed data processing engine        |\n",
    "| Excel           | Spreadsheet software with data analysis features   |"
   ]
  },
  {
   "cell_type": "markdown",
   "metadata": {},
   "source": [
    "Introduction to Arithmetic Expression Examples:\n",
    "\n",
    "In mathematics and computer programming, arithmetic expressions are fundamental representations of calculations involving numeric values, operators, and sometimes variables. These expressions are at the core of performing mathematical operations and are widely used in data science for data manipulation, computation, and statistical analysis.\n",
    "\n",
    "Arithmetic expressions typically consist of various mathematical operators, such as addition (+), subtraction (-), multiplication (*), and division (/).\n",
    "\n",
    "2 * 6 = 12 \n",
    "\n",
    "15 / 3 = 5\n",
    "\n",
    "5 + 3 = 8\n",
    "\n",
    "7 - 2 = 5\n",
    "\n",
    "8 / 2(2 + 2) = 16"
   ]
  },
  {
   "cell_type": "code",
   "execution_count": 2,
   "metadata": {},
   "outputs": [
    {
     "data": {
      "text/plain": [
       "25"
      ]
     },
     "execution_count": 2,
     "metadata": {},
     "output_type": "execute_result"
    }
   ],
   "source": [
    "def multiply(a : int, b : int): return a * b\n",
    "def add(a : int, b : int): return a + b\n",
    "\n",
    "multiply(add(3, 2), add(1,4))"
   ]
  },
  {
   "cell_type": "code",
   "execution_count": 4,
   "metadata": {},
   "outputs": [
    {
     "data": {
      "text/plain": [
       "'4000 minutes creates 1 whole hour(s)'"
      ]
     },
     "execution_count": 4,
     "metadata": {},
     "output_type": "execute_result"
    }
   ],
   "source": [
    "min_to_hours = lambda x : x // 3600\n",
    "\n",
    "f\"4000 minutes creates {min_to_hours(4000)} whole hour(s)\""
   ]
  },
  {
   "cell_type": "markdown",
   "metadata": {},
   "source": [
    "Objectives: \n",
    "\n",
    "I dont really know what it wants me to put here... so here are the \"objectives\" of the assignment\n",
    "Exercise 2 - Create a markdown cell with the title of the notebook. (1 pt)\n",
    "\n",
    "Exercise 3 - Create a markdown cell for an introduction. (1 pt)\n",
    "\n",
    "Exercise 4 - Create a markdown cell to list data science languages. (3 pts)\n",
    "\n",
    "Exercise 5 - Create a markdown cell to list data science libraries. (3 pts)\n",
    "\n",
    "Exercise 6 - Create a markdown cell with a table of Data Science tools. (3 pts)\n",
    "\n",
    "Exercise 7 - Create a markdown cell introducing arithmetic expression examples. (1 pt)\n",
    "\n",
    "Exercise 8 - Create a code cell to multiply and add numbers. (2 pts)\n",
    "\n",
    "Exercise 9 - Create a code cell to convert minutes to hours. (2 pts)\n",
    "\n",
    "Exercise 10 -Insert a markdown cell to list Objectives. (3 pts)\n",
    "\n",
    "Exercise 11 - Create a markdown cell to indicate the Author’s name. (2 pts)\n",
    "\n",
    "Exercise 12 - Share your notebook through GitHub (3 pts)\n",
    "\n",
    "Exercise 13 - Take a screenshot of the first page of the notebook. (1 pt)"
   ]
  },
  {
   "cell_type": "markdown",
   "metadata": {},
   "source": [
    "# Author: Brendan Sirls\n"
   ]
  }
 ],
 "metadata": {
  "kernelspec": {
   "display_name": "Python 3",
   "language": "python",
   "name": "python3"
  },
  "language_info": {
   "codemirror_mode": {
    "name": "ipython",
    "version": 3
   },
   "file_extension": ".py",
   "mimetype": "text/x-python",
   "name": "python",
   "nbconvert_exporter": "python",
   "pygments_lexer": "ipython3",
   "version": "3.10.11"
  },
  "orig_nbformat": 4
 },
 "nbformat": 4,
 "nbformat_minor": 2
}
